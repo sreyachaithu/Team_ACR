{
 "cells": [
  {
   "cell_type": "code",
   "execution_count": 4,
   "id": "22f5579f-3b13-441c-8fc0-93222884fd61",
   "metadata": {},
   "outputs": [],
   "source": [
    "import os\n",
    "import cv2\n",
    "import numpy as np\n"
   ]
  },
  {
   "cell_type": "code",
   "execution_count": 5,
   "id": "a274fcae-3255-4b7b-9c35-d631adf586b6",
   "metadata": {},
   "outputs": [
    {
     "name": "stdout",
     "output_type": "stream",
     "text": [
      "Dataset loaded successfully!\n",
      "Shape of data: (97, 30000)\n",
      "Labels: ['flea_allergy' 'hotspot' 'lension_cancer' 'mange' 'ringworm']\n"
     ]
    }
   ],
   "source": [
    "import os\n",
    "import cv2\n",
    "import numpy as np\n",
    "\n",
    "# Image size\n",
    "IMG_SIZE = 100  # small for speed\n",
    "\n",
    "# Dataset path\n",
    "DATASET_DIR = 'dataset/'\n",
    "\n",
    "# Initialize data and labels\n",
    "data = []\n",
    "labels = []\n",
    "\n",
    "# Loop through each class folder\n",
    "for category in os.listdir(DATASET_DIR):#it gives the subfolder names such as virat, \n",
    "    class_path = os.path.join(DATASET_DIR, category)#for class path or subfolder path \n",
    "    #DATASET_DIR TO virat,lionel,...\n",
    "    \n",
    "    for img_file in os.listdir(class_path):#gives the file name like virat1.jpg\n",
    "        img_path = os.path.join(class_path, img_file) #give the path\n",
    "        \n",
    "        # Read and resize image\n",
    "        img = cv2.imread(img_path)\n",
    "        img = cv2.resize(img, (IMG_SIZE, IMG_SIZE)) #which resize the image 224*224 in ml model all images should be in same size it is very important\n",
    "        \n",
    "        # Flatten the image to 1D\n",
    "        img_flatten = img.flatten() #converting the 3d to 1d \n",
    "        #224 x 224 x 3 = 150,528 pixels\n",
    "        #img_flatten.shape = (150528,)\n",
    "\n",
    "        \n",
    "        data.append(img_flatten)\n",
    "        labels.append(category)\n",
    "\n",
    "# Convert to NumPy arrays\n",
    "X = np.array(data) #X will be shape: (number_of_images, image_size)\n",
    "#y will be shape: (number_of_images,) → contains labels.\n",
    "y = np.array(labels)\n",
    "\n",
    "print(\"Dataset loaded successfully!\")\n",
    "print(\"Shape of data:\", X.shape)\n",
    "print(\"Labels:\", np.unique(y))"
   ]
  },
  {
   "cell_type": "code",
   "execution_count": 6,
   "id": "3551c6c0-211b-4dcf-a04e-809fe447ebf8",
   "metadata": {},
   "outputs": [
    {
     "name": "stdout",
     "output_type": "stream",
     "text": [
      "Accuracy: 0.25\n"
     ]
    },
    {
     "data": {
      "text/plain": [
       "['label_encoder.pkl']"
      ]
     },
     "execution_count": 6,
     "metadata": {},
     "output_type": "execute_result"
    }
   ],
   "source": [
    "from sklearn.model_selection import train_test_split\n",
    "from sklearn.preprocessing import LabelEncoder\n",
    "from sklearn.svm import SVC\n",
    "from sklearn.metrics import accuracy_score\n",
    "\n",
    "# Encode labels to numbers\n",
    "le = LabelEncoder()\n",
    "y_encoded = le.fit_transform(y)\n",
    "\n",
    "# Train-test split\n",
    "X_train, X_test, y_train, y_test = train_test_split(X, y_encoded, test_size=0.2, random_state=42)\n",
    "\n",
    "# Train SVM Classifier\n",
    "model = SVC(kernel='linear', probability=True)\n",
    "model.fit(X_train, y_train)\n",
    "\n",
    "# Evaluate\n",
    "y_pred = model.predict(X_test)\n",
    "print(\"Accuracy:\", accuracy_score(y_test, y_pred))\n",
    "\n",
    "# Save model & label encoder\n",
    "import joblib\n",
    "joblib.dump(model, 'disease_classifier.pkl')\n",
    "joblib.dump(le, 'label_encoder.pkl')\n"
   ]
  },
  {
   "cell_type": "code",
   "execution_count": null,
   "id": "ffbd6cd4-3253-42ff-9221-3ba81518a7eb",
   "metadata": {},
   "outputs": [],
   "source": []
  }
 ],
 "metadata": {
  "kernelspec": {
   "display_name": "Python 3 (ipykernel)",
   "language": "python",
   "name": "python3"
  },
  "language_info": {
   "codemirror_mode": {
    "name": "ipython",
    "version": 3
   },
   "file_extension": ".py",
   "mimetype": "text/x-python",
   "name": "python",
   "nbconvert_exporter": "python",
   "pygments_lexer": "ipython3",
   "version": "3.13.5"
  }
 },
 "nbformat": 4,
 "nbformat_minor": 5
}
